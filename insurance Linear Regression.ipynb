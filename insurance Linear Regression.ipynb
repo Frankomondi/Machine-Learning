{
 "cells": [
  {
   "cell_type": "code",
   "execution_count": 28,
   "id": "2b9ec735",
   "metadata": {},
   "outputs": [],
   "source": [
    "import pandas as pd\n",
    "import numpy as np\n",
    "import seaborn as sns\n",
    "import matplotlib.pyplot as plt\n",
    "import re\n",
    "%matplotlib inline\n",
    "import math"
   ]
  },
  {
   "cell_type": "code",
   "execution_count": 29,
   "id": "d585a160",
   "metadata": {},
   "outputs": [],
   "source": [
    "data = pd.read_csv('insurance.csv')"
   ]
  },
  {
   "cell_type": "code",
   "execution_count": 30,
   "id": "8e99d6ce",
   "metadata": {},
   "outputs": [
    {
     "data": {
      "text/html": [
       "<div>\n",
       "<style scoped>\n",
       "    .dataframe tbody tr th:only-of-type {\n",
       "        vertical-align: middle;\n",
       "    }\n",
       "\n",
       "    .dataframe tbody tr th {\n",
       "        vertical-align: top;\n",
       "    }\n",
       "\n",
       "    .dataframe thead th {\n",
       "        text-align: right;\n",
       "    }\n",
       "</style>\n",
       "<table border=\"1\" class=\"dataframe\">\n",
       "  <thead>\n",
       "    <tr style=\"text-align: right;\">\n",
       "      <th></th>\n",
       "      <th>age</th>\n",
       "      <th>sex</th>\n",
       "      <th>bmi</th>\n",
       "      <th>children</th>\n",
       "      <th>smoker</th>\n",
       "      <th>region</th>\n",
       "      <th>charges</th>\n",
       "    </tr>\n",
       "  </thead>\n",
       "  <tbody>\n",
       "    <tr>\n",
       "      <th>0</th>\n",
       "      <td>19</td>\n",
       "      <td>female</td>\n",
       "      <td>27.900</td>\n",
       "      <td>0</td>\n",
       "      <td>yes</td>\n",
       "      <td>southwest</td>\n",
       "      <td>16884.92400</td>\n",
       "    </tr>\n",
       "    <tr>\n",
       "      <th>1</th>\n",
       "      <td>18</td>\n",
       "      <td>male</td>\n",
       "      <td>33.770</td>\n",
       "      <td>1</td>\n",
       "      <td>no</td>\n",
       "      <td>southeast</td>\n",
       "      <td>1725.55230</td>\n",
       "    </tr>\n",
       "    <tr>\n",
       "      <th>2</th>\n",
       "      <td>28</td>\n",
       "      <td>male</td>\n",
       "      <td>33.000</td>\n",
       "      <td>3</td>\n",
       "      <td>no</td>\n",
       "      <td>southeast</td>\n",
       "      <td>4449.46200</td>\n",
       "    </tr>\n",
       "    <tr>\n",
       "      <th>3</th>\n",
       "      <td>33</td>\n",
       "      <td>male</td>\n",
       "      <td>22.705</td>\n",
       "      <td>0</td>\n",
       "      <td>no</td>\n",
       "      <td>northwest</td>\n",
       "      <td>21984.47061</td>\n",
       "    </tr>\n",
       "    <tr>\n",
       "      <th>4</th>\n",
       "      <td>32</td>\n",
       "      <td>male</td>\n",
       "      <td>28.880</td>\n",
       "      <td>0</td>\n",
       "      <td>no</td>\n",
       "      <td>northwest</td>\n",
       "      <td>3866.85520</td>\n",
       "    </tr>\n",
       "  </tbody>\n",
       "</table>\n",
       "</div>"
      ],
      "text/plain": [
       "   age     sex     bmi  children smoker     region      charges\n",
       "0   19  female  27.900         0    yes  southwest  16884.92400\n",
       "1   18    male  33.770         1     no  southeast   1725.55230\n",
       "2   28    male  33.000         3     no  southeast   4449.46200\n",
       "3   33    male  22.705         0     no  northwest  21984.47061\n",
       "4   32    male  28.880         0     no  northwest   3866.85520"
      ]
     },
     "execution_count": 30,
     "metadata": {},
     "output_type": "execute_result"
    }
   ],
   "source": [
    "data.head()"
   ]
  },
  {
   "cell_type": "code",
   "execution_count": 31,
   "id": "042cce4e",
   "metadata": {},
   "outputs": [],
   "source": [
    "children = data.drop(['smoker','sex','region'], axis = 1)"
   ]
  },
  {
   "cell_type": "code",
   "execution_count": 32,
   "id": "0788869e",
   "metadata": {},
   "outputs": [
    {
     "data": {
      "text/html": [
       "<div>\n",
       "<style scoped>\n",
       "    .dataframe tbody tr th:only-of-type {\n",
       "        vertical-align: middle;\n",
       "    }\n",
       "\n",
       "    .dataframe tbody tr th {\n",
       "        vertical-align: top;\n",
       "    }\n",
       "\n",
       "    .dataframe thead th {\n",
       "        text-align: right;\n",
       "    }\n",
       "</style>\n",
       "<table border=\"1\" class=\"dataframe\">\n",
       "  <thead>\n",
       "    <tr style=\"text-align: right;\">\n",
       "      <th></th>\n",
       "      <th>age</th>\n",
       "      <th>bmi</th>\n",
       "      <th>children</th>\n",
       "      <th>charges</th>\n",
       "    </tr>\n",
       "  </thead>\n",
       "  <tbody>\n",
       "    <tr>\n",
       "      <th>0</th>\n",
       "      <td>19</td>\n",
       "      <td>27.900</td>\n",
       "      <td>0</td>\n",
       "      <td>16884.92400</td>\n",
       "    </tr>\n",
       "    <tr>\n",
       "      <th>1</th>\n",
       "      <td>18</td>\n",
       "      <td>33.770</td>\n",
       "      <td>1</td>\n",
       "      <td>1725.55230</td>\n",
       "    </tr>\n",
       "    <tr>\n",
       "      <th>2</th>\n",
       "      <td>28</td>\n",
       "      <td>33.000</td>\n",
       "      <td>3</td>\n",
       "      <td>4449.46200</td>\n",
       "    </tr>\n",
       "    <tr>\n",
       "      <th>3</th>\n",
       "      <td>33</td>\n",
       "      <td>22.705</td>\n",
       "      <td>0</td>\n",
       "      <td>21984.47061</td>\n",
       "    </tr>\n",
       "    <tr>\n",
       "      <th>4</th>\n",
       "      <td>32</td>\n",
       "      <td>28.880</td>\n",
       "      <td>0</td>\n",
       "      <td>3866.85520</td>\n",
       "    </tr>\n",
       "  </tbody>\n",
       "</table>\n",
       "</div>"
      ],
      "text/plain": [
       "   age     bmi  children      charges\n",
       "0   19  27.900         0  16884.92400\n",
       "1   18  33.770         1   1725.55230\n",
       "2   28  33.000         3   4449.46200\n",
       "3   33  22.705         0  21984.47061\n",
       "4   32  28.880         0   3866.85520"
      ]
     },
     "execution_count": 32,
     "metadata": {},
     "output_type": "execute_result"
    }
   ],
   "source": [
    "children.head()"
   ]
  },
  {
   "cell_type": "code",
   "execution_count": 37,
   "id": "46a18a01",
   "metadata": {},
   "outputs": [],
   "source": [
    "#string values to float type"
   ]
  },
  {
   "cell_type": "code",
   "execution_count": 43,
   "id": "00384408",
   "metadata": {},
   "outputs": [],
   "source": [
    "children = data.replace('[^\\d.]','0', regex=True).astype(float)"
   ]
  },
  {
   "cell_type": "markdown",
   "id": "8c1c2ca6",
   "metadata": {},
   "source": [
    "# Define x and y"
   ]
  },
  {
   "cell_type": "code",
   "execution_count": 44,
   "id": "d1d1eb77",
   "metadata": {},
   "outputs": [],
   "source": [
    "x=children.drop(['bmi'],axis=1).values\n",
    "y=children['charges'].values"
   ]
  },
  {
   "cell_type": "code",
   "execution_count": 45,
   "id": "b8232617",
   "metadata": {},
   "outputs": [
    {
     "name": "stdout",
     "output_type": "stream",
     "text": [
      "[[1.90000000e+01 0.00000000e+00 0.00000000e+00 0.00000000e+00\n",
      "  0.00000000e+00 1.68849240e+04]\n",
      " [1.80000000e+01 0.00000000e+00 1.00000000e+00 0.00000000e+00\n",
      "  0.00000000e+00 1.72555230e+03]\n",
      " [2.80000000e+01 0.00000000e+00 3.00000000e+00 0.00000000e+00\n",
      "  0.00000000e+00 4.44946200e+03]\n",
      " ...\n",
      " [1.80000000e+01 0.00000000e+00 0.00000000e+00 0.00000000e+00\n",
      "  0.00000000e+00 1.62983350e+03]\n",
      " [2.10000000e+01 0.00000000e+00 0.00000000e+00 0.00000000e+00\n",
      "  0.00000000e+00 2.00794500e+03]\n",
      " [6.10000000e+01 0.00000000e+00 0.00000000e+00 0.00000000e+00\n",
      "  0.00000000e+00 2.91413603e+04]]\n"
     ]
    }
   ],
   "source": [
    "print(x)"
   ]
  },
  {
   "cell_type": "code",
   "execution_count": 46,
   "id": "3205c964",
   "metadata": {},
   "outputs": [
    {
     "name": "stdout",
     "output_type": "stream",
     "text": [
      "[16884.924   1725.5523  4449.462  ...  1629.8335  2007.945  29141.3603]\n"
     ]
    }
   ],
   "source": [
    "print(y)"
   ]
  },
  {
   "cell_type": "markdown",
   "id": "fc282efb",
   "metadata": {},
   "source": [
    "# Split The dataset in training set and test set"
   ]
  },
  {
   "cell_type": "code",
   "execution_count": 47,
   "id": "85082c3c",
   "metadata": {},
   "outputs": [],
   "source": [
    "from sklearn.model_selection import train_test_split\n",
    "x_train,x_test,y_train,y_test=train_test_split(x,y,test_size=0.3,random_state=0)"
   ]
  },
  {
   "cell_type": "markdown",
   "id": "2e87eb66",
   "metadata": {},
   "source": [
    "# Train the model on the training set"
   ]
  },
  {
   "cell_type": "code",
   "execution_count": 48,
   "id": "2c031f4b",
   "metadata": {},
   "outputs": [
    {
     "data": {
      "text/html": [
       "<style>#sk-container-id-1 {color: black;background-color: white;}#sk-container-id-1 pre{padding: 0;}#sk-container-id-1 div.sk-toggleable {background-color: white;}#sk-container-id-1 label.sk-toggleable__label {cursor: pointer;display: block;width: 100%;margin-bottom: 0;padding: 0.3em;box-sizing: border-box;text-align: center;}#sk-container-id-1 label.sk-toggleable__label-arrow:before {content: \"▸\";float: left;margin-right: 0.25em;color: #696969;}#sk-container-id-1 label.sk-toggleable__label-arrow:hover:before {color: black;}#sk-container-id-1 div.sk-estimator:hover label.sk-toggleable__label-arrow:before {color: black;}#sk-container-id-1 div.sk-toggleable__content {max-height: 0;max-width: 0;overflow: hidden;text-align: left;background-color: #f0f8ff;}#sk-container-id-1 div.sk-toggleable__content pre {margin: 0.2em;color: black;border-radius: 0.25em;background-color: #f0f8ff;}#sk-container-id-1 input.sk-toggleable__control:checked~div.sk-toggleable__content {max-height: 200px;max-width: 100%;overflow: auto;}#sk-container-id-1 input.sk-toggleable__control:checked~label.sk-toggleable__label-arrow:before {content: \"▾\";}#sk-container-id-1 div.sk-estimator input.sk-toggleable__control:checked~label.sk-toggleable__label {background-color: #d4ebff;}#sk-container-id-1 div.sk-label input.sk-toggleable__control:checked~label.sk-toggleable__label {background-color: #d4ebff;}#sk-container-id-1 input.sk-hidden--visually {border: 0;clip: rect(1px 1px 1px 1px);clip: rect(1px, 1px, 1px, 1px);height: 1px;margin: -1px;overflow: hidden;padding: 0;position: absolute;width: 1px;}#sk-container-id-1 div.sk-estimator {font-family: monospace;background-color: #f0f8ff;border: 1px dotted black;border-radius: 0.25em;box-sizing: border-box;margin-bottom: 0.5em;}#sk-container-id-1 div.sk-estimator:hover {background-color: #d4ebff;}#sk-container-id-1 div.sk-parallel-item::after {content: \"\";width: 100%;border-bottom: 1px solid gray;flex-grow: 1;}#sk-container-id-1 div.sk-label:hover label.sk-toggleable__label {background-color: #d4ebff;}#sk-container-id-1 div.sk-serial::before {content: \"\";position: absolute;border-left: 1px solid gray;box-sizing: border-box;top: 0;bottom: 0;left: 50%;z-index: 0;}#sk-container-id-1 div.sk-serial {display: flex;flex-direction: column;align-items: center;background-color: white;padding-right: 0.2em;padding-left: 0.2em;position: relative;}#sk-container-id-1 div.sk-item {position: relative;z-index: 1;}#sk-container-id-1 div.sk-parallel {display: flex;align-items: stretch;justify-content: center;background-color: white;position: relative;}#sk-container-id-1 div.sk-item::before, #sk-container-id-1 div.sk-parallel-item::before {content: \"\";position: absolute;border-left: 1px solid gray;box-sizing: border-box;top: 0;bottom: 0;left: 50%;z-index: -1;}#sk-container-id-1 div.sk-parallel-item {display: flex;flex-direction: column;z-index: 1;position: relative;background-color: white;}#sk-container-id-1 div.sk-parallel-item:first-child::after {align-self: flex-end;width: 50%;}#sk-container-id-1 div.sk-parallel-item:last-child::after {align-self: flex-start;width: 50%;}#sk-container-id-1 div.sk-parallel-item:only-child::after {width: 0;}#sk-container-id-1 div.sk-dashed-wrapped {border: 1px dashed gray;margin: 0 0.4em 0.5em 0.4em;box-sizing: border-box;padding-bottom: 0.4em;background-color: white;}#sk-container-id-1 div.sk-label label {font-family: monospace;font-weight: bold;display: inline-block;line-height: 1.2em;}#sk-container-id-1 div.sk-label-container {text-align: center;}#sk-container-id-1 div.sk-container {/* jupyter's `normalize.less` sets `[hidden] { display: none; }` but bootstrap.min.css set `[hidden] { display: none !important; }` so we also need the `!important` here to be able to override the default hidden behavior on the sphinx rendered scikit-learn.org. See: https://github.com/scikit-learn/scikit-learn/issues/21755 */display: inline-block !important;position: relative;}#sk-container-id-1 div.sk-text-repr-fallback {display: none;}</style><div id=\"sk-container-id-1\" class=\"sk-top-container\"><div class=\"sk-text-repr-fallback\"><pre>LinearRegression()</pre><b>In a Jupyter environment, please rerun this cell to show the HTML representation or trust the notebook. <br />On GitHub, the HTML representation is unable to render, please try loading this page with nbviewer.org.</b></div><div class=\"sk-container\" hidden><div class=\"sk-item\"><div class=\"sk-estimator sk-toggleable\"><input class=\"sk-toggleable__control sk-hidden--visually\" id=\"sk-estimator-id-1\" type=\"checkbox\" checked><label for=\"sk-estimator-id-1\" class=\"sk-toggleable__label sk-toggleable__label-arrow\">LinearRegression</label><div class=\"sk-toggleable__content\"><pre>LinearRegression()</pre></div></div></div></div></div>"
      ],
      "text/plain": [
       "LinearRegression()"
      ]
     },
     "execution_count": 48,
     "metadata": {},
     "output_type": "execute_result"
    }
   ],
   "source": [
    "from sklearn.linear_model import LinearRegression\n",
    "ml=LinearRegression()\n",
    "ml.fit(x_train,y_train)"
   ]
  },
  {
   "cell_type": "markdown",
   "id": "95fd072f",
   "metadata": {},
   "source": [
    "# Predict the test set results"
   ]
  },
  {
   "cell_type": "code",
   "execution_count": 49,
   "id": "ce85f182",
   "metadata": {},
   "outputs": [
    {
     "name": "stdout",
     "output_type": "stream",
     "text": [
      "[ 9724.53      8547.6913   45702.02235  12950.0712    9644.2525\n",
      "  4500.33925   2198.18985  11436.73815   7537.1639    5425.02335\n",
      "  6753.038    10493.9458    7337.748     4185.0979   18310.742\n",
      " 10702.6424   12523.6048    3490.5491    6457.8434   33475.81715\n",
      " 23967.38305  12643.3778   23045.56616  23065.4207    1674.6323\n",
      "  4667.60765   3732.6251    7682.67      3756.6216    8413.46305\n",
      "  8059.6791   48970.2476   12979.358    20630.28351  14571.8908\n",
      "  4137.5227    8347.1643   51194.55914  40003.33225   1880.487\n",
      "  5458.04645   2867.1196   20149.3229   47496.49445  36149.4835\n",
      " 26018.95052  19749.38338   6940.90985   4718.20355  22192.43711\n",
      "  2899.48935  18838.70366  23568.272    46255.1125   24227.33724\n",
      "  3268.84665   2322.6218    8827.2099   14478.33015  13112.6048\n",
      "  1253.936    46718.16325  13919.8229    9630.397    10736.87075\n",
      "  9880.068    32548.3405   38746.3551    3180.5101    8162.71625\n",
      " 13041.921    11554.2236   16232.847    13887.9685   13012.20865\n",
      " 13217.0945    7147.105     7731.4271   20296.86345  47403.88\n",
      " 11658.37915  45863.205     2055.3249    7441.053    41034.2214\n",
      " 18972.495     3410.324     2699.56835  12333.828    36837.467\n",
      "  6334.34355  10214.636    17878.90068   8515.7587    4518.82625\n",
      "  5148.5526   42303.69215  38998.546     5327.40025  10602.385\n",
      "  1824.2854    5377.4578    4349.462    37742.5757   32787.45859\n",
      "  3353.4703   10577.087     3556.9223   11944.59435  52590.82939\n",
      " 12475.3513    4266.1658    9249.4952   33732.6867   48675.5177\n",
      "  7729.64575   1964.78      8444.474    12347.172     9301.89355\n",
      " 42124.5153    9991.03765  14319.031     5428.7277    7626.993\n",
      "  4906.40965  23401.30575  21098.55405  48173.361     1917.3184\n",
      "  8219.2039    1725.5523    5976.8311    9361.3268   22144.032\n",
      " 35491.64     19515.5416   10107.2206   23244.7902    2789.0574\n",
      "  2261.5688   10594.50155   9304.7019   10435.06525   4894.7533\n",
      " 14313.8463   28287.89766  14426.07385   1627.28245  25517.11363\n",
      "  6555.07035  39611.7577    9964.06      1720.3537    2730.10785\n",
      "  6500.2359    2643.2685    1719.4363   11085.5868   10115.00885\n",
      "  4846.92015  12982.8747   28923.13692   9391.346     4544.2348\n",
      " 17128.42608  13844.506     6113.23105   4441.21315   1633.9618\n",
      "  4058.71245   4435.0942    8310.83915   1986.9334    4260.744\n",
      "  4504.6624    4428.88785   6117.4945   30184.9367    1708.92575\n",
      " 11187.6567    6796.86325  11356.6609    2498.4144   27375.90478\n",
      " 28101.33305   2254.7967    2597.779    14692.66935  10370.91255\n",
      " 41097.16175   3981.9768    5472.449    21223.6758    2534.39375\n",
      "  1972.95      6406.4107    6551.7501    4058.1161    4243.59005\n",
      " 11512.405    46889.2612   12268.63225  19199.944     4433.3877\n",
      " 42969.8527   23241.47453   9140.951     5836.5204    1149.3959\n",
      "  8765.249    14043.4767    5312.16985  10795.93733   6282.235\n",
      "  1969.614     6746.7425    5354.07465  14001.2867    6877.9801\n",
      "  6196.448     7986.47525   8277.523     3206.49135  11848.141\n",
      " 14210.53595  12265.5069   11837.16      6652.5288    2137.6536\n",
      "  1131.5066    8342.90875  12244.531     4561.1885   17626.23951\n",
      "  6875.961     9447.3824   34254.05335   6067.12675  11729.6795\n",
      "  5383.536    37465.34375   7371.772     7325.0482    8410.04685\n",
      " 10461.9794    3279.86855   7727.2532    2731.9122    6858.4796\n",
      " 19521.9682   47305.305     3987.926     3238.4357    7323.734819\n",
      "  1704.5681    7445.918     1629.8335    4877.98105   3561.8889\n",
      "  8605.3615   24520.264    45710.20785  15019.76005   6664.68595\n",
      " 20709.02034  40932.4295    9500.57305  40182.246     1137.4697\n",
      " 38511.6283    4670.64     13019.16105   4189.1131   38709.176\n",
      "  5594.8455   27346.04207   9788.8659    2362.22905  13224.693\n",
      " 12222.8983    4320.41085  12730.9996    2203.47185   6079.6715\n",
      "  3591.48      8596.8278   21771.3423    2927.0647    1708.0014\n",
      "  2803.69785  48517.56315   9282.4806    4738.2682   12269.68865\n",
      " 11879.10405  34166.273     6496.886     4751.07      8457.818\n",
      "  1639.5631    2566.4707   14455.64405  16577.7795   13457.9608\n",
      "  2721.3208   18218.16139   8615.3       9722.7695   14283.4594\n",
      " 21472.4788    5972.378    14711.7438    2128.43105   5438.7491\n",
      "  3935.1799    8534.6718   11884.04858   6837.3687   42983.4585\n",
      "  3925.7582   18903.49141   2117.33885   8283.6807    3366.6697\n",
      " 11833.7823   47928.03     17361.7661    9290.1395   42560.4304\n",
      " 13224.05705   4433.9159    9377.9047    3597.596    29141.3603\n",
      "  4562.8421   13616.3586    1837.237    26125.67477   3176.2877\n",
      " 25382.297     5662.225     2352.96845  40904.1995    5325.651\n",
      "  4883.866    30942.1918    1256.299     8606.2174   22493.65964\n",
      " 11552.904     3378.91      5124.1887    4837.5823   43254.41795\n",
      "  8269.044    43943.8761   37165.1638    5484.4673    9222.4026\n",
      "  1635.73365   2974.126    24059.68019  28468.91901  44260.7499\n",
      " 10959.33      1737.376    12323.936     2404.7338    7345.084\n",
      "  4040.55825   1837.2819    2902.9065   36219.40545   6640.54485\n",
      "  1607.5101   39871.7043   10807.4863   42856.838    11345.519\n",
      "  4462.7218   21595.38229   2257.47525  10118.424     4746.344\n",
      "  2205.9808   10797.3362    7151.092     5969.723     4564.19145\n",
      "  2690.1138   39241.442     1909.52745   8932.084     1631.6683\n",
      "  7650.77375  10601.412     3277.161    17942.106    10226.2842\n",
      " 14418.2804   13451.122   ]\n"
     ]
    }
   ],
   "source": [
    "y_pred=ml.predict(x_test)\n",
    "print(y_pred)"
   ]
  },
  {
   "cell_type": "code",
   "execution_count": 54,
   "id": "a7a953d8",
   "metadata": {},
   "outputs": [
    {
     "data": {
      "text/plain": [
       "array([16884.924])"
      ]
     },
     "execution_count": 54,
     "metadata": {},
     "output_type": "execute_result"
    }
   ],
   "source": [
    "ml.predict([[19,27.900,0,0,0,16884.92400]])"
   ]
  },
  {
   "cell_type": "markdown",
   "id": "4bfd950c",
   "metadata": {},
   "source": [
    "# Evaluate the model"
   ]
  },
  {
   "cell_type": "code",
   "execution_count": 55,
   "id": "d45154b9",
   "metadata": {},
   "outputs": [
    {
     "data": {
      "text/plain": [
       "1.0"
      ]
     },
     "execution_count": 55,
     "metadata": {},
     "output_type": "execute_result"
    }
   ],
   "source": [
    "from sklearn.metrics import r2_score\n",
    "r2_score(y_test,y_pred)"
   ]
  },
  {
   "cell_type": "markdown",
   "id": "18c2d6b3",
   "metadata": {},
   "source": [
    "# Plot the Results"
   ]
  },
  {
   "cell_type": "code",
   "execution_count": 59,
   "id": "a5111f99",
   "metadata": {},
   "outputs": [
    {
     "data": {
      "text/plain": [
       "Text(0.5, 1.0, 'Actual vs Predicted')"
      ]
     },
     "execution_count": 59,
     "metadata": {},
     "output_type": "execute_result"
    },
    {
     "data": {
      "image/png": "[encoded data removed]",
      "text/plain": [
       "<Figure size 1500x1000 with 1 Axes>"
      ]
     },
     "metadata": {},
     "output_type": "display_data"
    }
   ],
   "source": [
    "import matplotlib.pyplot as plt\n",
    "plt.figure(figsize=(15,10))\n",
    "plt.scatter(y_test,y_pred)\n",
    "plt.xlabel('Actual')\n",
    "plt.ylabel('Predicted')\n",
    "plt.title('Actual vs Predicted')\n"
   ]
  },
  {
   "cell_type": "markdown",
   "id": "6b8ed82d",
   "metadata": {},
   "source": [
    "# predicted values"
   ]
  },
  {
   "cell_type": "code",
   "execution_count": null,
   "id": "db410ad6",
   "metadata": {},
   "outputs": [],
   "source": [
    "pred_y_df=pd.Dataframe({'Actual value': y_test,'Predicted value':y_pred, 'Difference':y_test=y_pred})"
   ]
  }
 ],
 "metadata": {
  "kernelspec": {
   "display_name": "Python 3 (ipykernel)",
   "language": "python",
   "name": "python3"
  },
  "language_info": {
   "codemirror_mode": {
    "name": "ipython",
    "version": 3
   },
   "file_extension": ".py",
   "mimetype": "text/x-python",
   "name": "python",
   "nbconvert_exporter": "python",
   "pygments_lexer": "ipython3",
   "version": "3.10.1"
  }
 },
 "nbformat": 4,
 "nbformat_minor": 5
}
